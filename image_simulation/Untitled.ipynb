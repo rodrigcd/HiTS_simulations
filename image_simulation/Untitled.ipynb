{
 "cells": [
  {
   "cell_type": "code",
   "execution_count": 146,
   "metadata": {},
   "outputs": [],
   "source": [
    "import numpy as np\n",
    "import matplotlib.pyplot as plt\n",
    "import h5py\n",
    "import os\n",
    "from config_images import *\n",
    "import matplotlib.gridspec as gridspec"
   ]
  },
  {
   "cell_type": "code",
   "execution_count": 2,
   "metadata": {},
   "outputs": [],
   "source": [
    "f = h5py.File(save_path+output_filename+\".hdf5\", \"r\")\n",
    "#stats = np.load(\"/home/toshiba/rodrigo/simulated_lightcurves/multiclass_SNLS_short20000.pkl\")"
   ]
  },
  {
   "cell_type": "code",
   "execution_count": 3,
   "metadata": {},
   "outputs": [
    {
     "data": {
      "text/plain": [
       "['Field01',\n",
       " 'Field02',\n",
       " 'Field04',\n",
       " 'Field05',\n",
       " 'Field06',\n",
       " 'Field07',\n",
       " 'Field08',\n",
       " 'Field09',\n",
       " 'Field10',\n",
       " 'Field11',\n",
       " 'Field12',\n",
       " 'Field13',\n",
       " 'Field14',\n",
       " 'Field15',\n",
       " 'Field16',\n",
       " 'Field17',\n",
       " 'Field18',\n",
       " 'Field19',\n",
       " 'Field20',\n",
       " 'Field21',\n",
       " 'Field22',\n",
       " 'Field23',\n",
       " 'Field24',\n",
       " 'Field25',\n",
       " 'Field26',\n",
       " 'Field27',\n",
       " 'Field28',\n",
       " 'Field29',\n",
       " 'Field30',\n",
       " 'Field31',\n",
       " 'Field32',\n",
       " 'Field33',\n",
       " 'Field34',\n",
       " 'Field35',\n",
       " 'Field36',\n",
       " 'Field37',\n",
       " 'Field38',\n",
       " 'Field39',\n",
       " 'Field40',\n",
       " 'Field41',\n",
       " 'Field42',\n",
       " 'Field43',\n",
       " 'Field44',\n",
       " 'Field45',\n",
       " 'Field46',\n",
       " 'Field47',\n",
       " 'Field48',\n",
       " 'Field49',\n",
       " 'Field50']"
      ]
     },
     "execution_count": 3,
     "metadata": {},
     "output_type": "execute_result"
    }
   ],
   "source": [
    "list(f.keys())"
   ]
  },
  {
   "cell_type": "code",
   "execution_count": 166,
   "metadata": {},
   "outputs": [
    {
     "name": "stdout",
     "output_type": "stream",
     "text": [
      "['count_lightcurves', 'galaxy_flag', 'galaxy_image', 'ids', 'images', 'labels', 'lc_type', 'lightcurves', 'obs_cond', 'psf_image']\n",
      "['airmass', 'epoch', 'exp_time', 'filter', 'limmag3', 'limmag5', 'obs_day', 'seeing', 'sky_brightness', 'zero_point']\n",
      "[350, 25]\n",
      "['NonVariable', 'RRLyrae', 'EmptyLightCurve', 'NonVariable', 'Asteroids', 'Supernovae', 'EclipsingBinaries', 'EclipsingBinaries', 'EmptyLightCurve', 'EclipsingBinaries', 'M33Cepheids', 'RRLyrae', 'Supernovae', 'EmptyLightCurve', 'M33Cepheids', 'M33Cepheids', 'Supernovae', 'RRLyrae', 'Asteroids', 'Supernovae', 'RRLyrae', 'Asteroids', 'RRLyrae', 'EclipsingBinaries', 'EmptyLightCurve', 'RRLyrae', 'RRLyrae', 'RRLyrae', 'NonVariable', 'EclipsingBinaries', 'RRLyrae', 'EmptyLightCurve', 'Supernovae', 'RRLyrae', 'EmptyLightCurve', 'NonVariable', 'NonVariable', 'RRLyrae', 'M33Cepheids', 'EmptyLightCurve', 'EmptyLightCurve', 'EmptyLightCurve', 'M33Cepheids', 'RRLyrae', 'M33Cepheids', 'NonVariable', 'M33Cepheids', 'NonVariable', 'EmptyLightCurve', 'Supernovae', 'Asteroids', 'NonVariable', 'RRLyrae', 'M33Cepheids', 'EmptyLightCurve', 'M33Cepheids', 'Asteroids', 'EmptyLightCurve', 'Supernovae', 'EclipsingBinaries', 'Supernovae', 'EmptyLightCurve', 'EmptyLightCurve', 'Asteroids', 'Supernovae', 'M33Cepheids', 'Asteroids', 'RRLyrae', 'M33Cepheids', 'Asteroids', 'EmptyLightCurve', 'EclipsingBinaries', 'EclipsingBinaries', 'M33Cepheids', 'Asteroids', 'RRLyrae', 'M33Cepheids', 'Asteroids', 'EclipsingBinaries', 'EmptyLightCurve', 'EclipsingBinaries', 'NonVariable', 'RRLyrae', 'Supernovae', 'NonVariable', 'Asteroids', 'M33Cepheids', 'RRLyrae', 'RRLyrae', 'EclipsingBinaries', 'M33Cepheids', 'EmptyLightCurve', 'M33Cepheids', 'Asteroids', 'Asteroids', 'Asteroids', 'EmptyLightCurve', 'EmptyLightCurve', 'Supernovae', 'Asteroids', 'EmptyLightCurve', 'Asteroids', 'NonVariable', 'RRLyrae', 'M33Cepheids', 'Asteroids', 'Supernovae', 'RRLyrae', 'Supernovae', 'EmptyLightCurve', 'Supernovae', 'NonVariable', 'NonVariable', 'NonVariable', 'M33Cepheids', 'Asteroids', 'M33Cepheids', 'RRLyrae', 'Asteroids', 'RRLyrae', 'NonVariable', 'EclipsingBinaries', 'NonVariable', 'NonVariable', 'RRLyrae', 'Asteroids', 'EmptyLightCurve', 'EmptyLightCurve', 'EmptyLightCurve', 'Asteroids', 'NonVariable', 'NonVariable', 'EclipsingBinaries', 'EclipsingBinaries', 'EmptyLightCurve', 'RRLyrae', 'Supernovae', 'NonVariable', 'EclipsingBinaries', 'M33Cepheids', 'NonVariable', 'M33Cepheids', 'NonVariable', 'EclipsingBinaries', 'RRLyrae', 'Asteroids', 'Supernovae', 'Supernovae', 'RRLyrae', 'Asteroids', 'M33Cepheids', 'RRLyrae', 'M33Cepheids', 'Supernovae', 'M33Cepheids', 'Supernovae', 'NonVariable', 'EmptyLightCurve', 'Supernovae', 'Asteroids', 'M33Cepheids', 'EclipsingBinaries', 'Asteroids', 'Supernovae', 'EclipsingBinaries', 'NonVariable', 'EclipsingBinaries', 'EclipsingBinaries', 'EmptyLightCurve', 'RRLyrae', 'EclipsingBinaries', 'EclipsingBinaries', 'EmptyLightCurve', 'Asteroids', 'EclipsingBinaries', 'RRLyrae', 'EclipsingBinaries', 'EmptyLightCurve', 'RRLyrae', 'Supernovae', 'EclipsingBinaries', 'EclipsingBinaries', 'Asteroids', 'Supernovae', 'EclipsingBinaries', 'EclipsingBinaries', 'RRLyrae', 'Supernovae', 'Supernovae', 'M33Cepheids', 'EclipsingBinaries', 'NonVariable', 'NonVariable', 'Supernovae', 'Supernovae', 'EmptyLightCurve', 'EclipsingBinaries', 'M33Cepheids', 'M33Cepheids', 'Asteroids', 'EmptyLightCurve', 'EclipsingBinaries', 'Supernovae', 'Asteroids', 'M33Cepheids', 'Supernovae', 'NonVariable', 'Asteroids', 'Asteroids', 'M33Cepheids', 'RRLyrae', 'NonVariable', 'Asteroids', 'EclipsingBinaries', 'Asteroids', 'Asteroids', 'M33Cepheids', 'RRLyrae', 'M33Cepheids', 'Supernovae', 'NonVariable', 'EmptyLightCurve', 'EclipsingBinaries', 'RRLyrae', 'EmptyLightCurve', 'M33Cepheids', 'Supernovae', 'RRLyrae', 'M33Cepheids', 'RRLyrae', 'EmptyLightCurve', 'EmptyLightCurve', 'RRLyrae', 'EmptyLightCurve', 'EmptyLightCurve', 'Asteroids', 'RRLyrae', 'Supernovae', 'NonVariable', 'Asteroids', 'M33Cepheids', 'NonVariable', 'M33Cepheids', 'M33Cepheids', 'EclipsingBinaries', 'NonVariable', 'Supernovae', 'Supernovae', 'Asteroids', 'RRLyrae', 'M33Cepheids', 'RRLyrae', 'EclipsingBinaries', 'Supernovae', 'EmptyLightCurve', 'M33Cepheids', 'Asteroids', 'Supernovae', 'Supernovae', 'NonVariable', 'EmptyLightCurve', 'Supernovae', 'M33Cepheids', 'NonVariable', 'RRLyrae', 'EclipsingBinaries', 'M33Cepheids', 'Supernovae', 'NonVariable', 'Asteroids', 'Supernovae', 'EmptyLightCurve', 'EclipsingBinaries', 'EclipsingBinaries', 'Asteroids', 'EclipsingBinaries', 'EclipsingBinaries', 'RRLyrae', 'Asteroids', 'Asteroids', 'EmptyLightCurve', 'RRLyrae', 'EclipsingBinaries', 'EmptyLightCurve', 'EclipsingBinaries', 'M33Cepheids', 'EmptyLightCurve', 'M33Cepheids', 'M33Cepheids', 'EclipsingBinaries', 'Supernovae', 'Supernovae', 'RRLyrae', 'NonVariable', 'Supernovae', 'NonVariable', 'Asteroids', 'Asteroids', 'NonVariable', 'Asteroids', 'NonVariable', 'NonVariable', 'EmptyLightCurve', 'NonVariable', 'NonVariable', 'M33Cepheids', 'Supernovae', 'NonVariable', 'EclipsingBinaries', 'Asteroids', 'Asteroids', 'NonVariable', 'EmptyLightCurve', 'EclipsingBinaries', 'Supernovae', 'Supernovae', 'NonVariable', 'RRLyrae', 'EclipsingBinaries', 'EclipsingBinaries', 'NonVariable', 'Supernovae', 'RRLyrae', 'NonVariable', 'RRLyrae', 'EmptyLightCurve', 'NonVariable', 'RRLyrae', 'M33Cepheids', 'Supernovae', 'EclipsingBinaries', 'M33Cepheids', 'Asteroids', 'M33Cepheids', 'EmptyLightCurve', 'M33Cepheids', 'RRLyrae', 'EmptyLightCurve', 'EclipsingBinaries', 'Asteroids', 'EclipsingBinaries', 'EmptyLightCurve', 'EmptyLightCurve', 'NonVariable', 'NonVariable', 'Supernovae', 'RRLyrae', 'M33Cepheids', 'Asteroids', 'Supernovae']\n"
     ]
    }
   ],
   "source": [
    "field = \"Field09\"\n",
    "print(list(f[field].keys()))\n",
    "print(list(f[field][\"obs_cond\"].keys()))\n",
    "print(list(f[field][\"count_lightcurves\"][\"g\"].shape))\n",
    "print(list(f[field][\"lc_type\"]))\n",
    "lc_type = f[field][\"lc_type\"][:]\n",
    "galaxy_flag = f[field][\"galaxy_flag\"][:]\n",
    "m_lightcurves = f[field][\"lightcurves\"][\"g\"][:]\n",
    "images = f[field][\"images\"][\"g\"][:]\n",
    "obs_days = f[field][\"obs_cond\"][\"obs_day\"][\"g\"][:]\n",
    "limmag = f[field][\"obs_cond\"][\"limmag5\"][\"g\"][:]"
   ]
  },
  {
   "cell_type": "code",
   "execution_count": 108,
   "metadata": {},
   "outputs": [
    {
     "name": "stdout",
     "output_type": "stream",
     "text": [
      "[ 31  39  41  54  61  62  70  79  91 100 126 134 157 172 224 231 233 234\n",
      " 254 260 280 286 302 325 337]\n",
      "50.0 31\n",
      "50.0 39\n",
      "50.0 41\n",
      "50.0 54\n",
      "50.0 61\n",
      "50.0 62\n",
      "50.0 70\n",
      "50.0 79\n",
      "50.0 91\n",
      "50.0 100\n",
      "50.0 126\n",
      "50.0 134\n",
      "50.0 157\n",
      "50.0 172\n",
      "50.0 224\n",
      "50.0 231\n",
      "50.0 233\n",
      "50.0 234\n",
      "50.0 254\n",
      "50.0 260\n",
      "50.0 280\n",
      "50.0 286\n",
      "50.0 302\n",
      "50.0 325\n",
      "50.0 337\n"
     ]
    }
   ],
   "source": [
    "class_to_plot = [\"Supernovae\", 'M33Cepheids', 'EclipsingBinaries', 'Asteroids', 'NonVariable', 'RRLyrae', 'EmptyLightCurve']\n",
    "sn_ids = np.where(lc_type==\"EmptyLightCurve\")[0]\n",
    "#for i in sn_ids:\n",
    "#    print(np.mean(m_lightcurves[i, :]), i)\n",
    "sn_with_galaxies = sn_ids[galaxy_flag[sn_ids]==1]\n",
    "print(sn_with_galaxies)\n",
    "for sn_id in sn_with_galaxies:\n",
    "    print(np.min(m_lightcurves[sn_id, :]), sn_id)"
   ]
  },
  {
   "cell_type": "code",
   "execution_count": 143,
   "metadata": {},
   "outputs": [
    {
     "data": {
      "image/png": "[encoded data removed]",
      "text/plain": [
       "<Figure size 432x288 with 1 Axes>"
      ]
     },
     "metadata": {},
     "output_type": "display_data"
    }
   ],
   "source": [
    "plt.imshow(images[54,:,:,20])\n",
    "plt.show()"
   ]
  },
  {
   "cell_type": "code",
   "execution_count": 97,
   "metadata": {},
   "outputs": [
    {
     "data": {
      "image/png": "[encoded data removed]",
      "text/plain": [
       "<Figure size 432x288 with 1 Axes>"
      ]
     },
     "metadata": {},
     "output_type": "display_data"
    }
   ],
   "source": [
    "plt.plot(obs_days, m_lightcurves[259, :], \"-o\")\n",
    "#print(np.argmin(m_lightcurves[93, :]))\n",
    "plt.ylim([27,20])\n",
    "plt.show()"
   ]
  },
  {
   "cell_type": "code",
   "execution_count": 145,
   "metadata": {},
   "outputs": [
    {
     "name": "stdout",
     "output_type": "stream",
     "text": [
      "25\n"
     ]
    }
   ],
   "source": [
    "sn_id = 163\n",
    "rr_id = 223\n",
    "ceph_id = 68\n",
    "eb_id = 71\n",
    "ast_id = 93\n",
    "const_id = 259\n",
    "gal_id = 54\n",
    "id_list = [sn_id, gal_id,rr_id, ceph_id, eb_id, ast_id, const_id]\n",
    "print(len(obs_days))"
   ]
  },
  {
   "cell_type": "code",
   "execution_count": 227,
   "metadata": {
    "scrolled": false
   },
   "outputs": [
    {
     "name": "stdout",
     "output_type": "stream",
     "text": [
      "90.0 939.0\n",
      "85.0 819.0\n",
      "87.0 872.0\n",
      "88.0 814.0\n",
      "85.0 730.0\n",
      "87.0 665.0\n",
      "85.0 714.0\n",
      "90.0 939.0\n",
      "85.0 819.0\n",
      "87.0 872.0\n",
      "88.0 814.0\n",
      "85.0 730.0\n",
      "87.0 665.0\n",
      "85.0 714.0\n",
      "90.0 939.0\n",
      "85.0 819.0\n",
      "87.0 872.0\n",
      "88.0 814.0\n",
      "85.0 730.0\n",
      "87.0 665.0\n",
      "85.0 714.0\n",
      "90.0 939.0\n",
      "85.0 819.0\n",
      "87.0 872.0\n",
      "88.0 814.0\n",
      "85.0 730.0\n",
      "87.0 665.0\n",
      "85.0 714.0\n",
      "90.0 939.0\n",
      "85.0 819.0\n",
      "87.0 872.0\n",
      "88.0 814.0\n",
      "85.0 730.0\n",
      "87.0 665.0\n",
      "85.0 714.0\n",
      "90.0 939.0\n",
      "85.0 819.0\n",
      "87.0 872.0\n",
      "88.0 814.0\n",
      "85.0 730.0\n",
      "87.0 665.0\n",
      "85.0 714.0\n",
      "90.0 939.0\n",
      "85.0 819.0\n",
      "87.0 872.0\n",
      "88.0 814.0\n",
      "85.0 730.0\n",
      "87.0 665.0\n",
      "85.0 714.0\n",
      "90.0 939.0\n",
      "85.0 819.0\n",
      "87.0 872.0\n",
      "88.0 814.0\n",
      "85.0 730.0\n",
      "87.0 665.0\n",
      "85.0 714.0\n",
      "90.0 939.0\n",
      "85.0 819.0\n",
      "87.0 872.0\n",
      "88.0 814.0\n",
      "85.0 730.0\n",
      "87.0 665.0\n",
      "85.0 714.0\n",
      "90.0 939.0\n",
      "85.0 819.0\n",
      "87.0 872.0\n",
      "88.0 814.0\n",
      "85.0 730.0\n",
      "87.0 665.0\n",
      "85.0 714.0\n",
      "90.0 939.0\n",
      "85.0 819.0\n",
      "87.0 872.0\n",
      "88.0 814.0\n",
      "85.0 730.0\n",
      "87.0 665.0\n",
      "85.0 714.0\n",
      "90.0 939.0\n",
      "85.0 819.0\n",
      "87.0 872.0\n",
      "88.0 814.0\n",
      "85.0 730.0\n",
      "87.0 665.0\n",
      "85.0 714.0\n",
      "90.0 939.0\n",
      "85.0 819.0\n",
      "87.0 872.0\n",
      "88.0 814.0\n",
      "85.0 730.0\n",
      "87.0 665.0\n",
      "85.0 714.0\n",
      "90.0 939.0\n",
      "85.0 819.0\n",
      "87.0 872.0\n",
      "88.0 814.0\n",
      "85.0 730.0\n",
      "87.0 665.0\n",
      "85.0 714.0\n",
      "90.0 939.0\n",
      "85.0 819.0\n",
      "87.0 872.0\n",
      "88.0 814.0\n",
      "85.0 730.0\n",
      "87.0 665.0\n",
      "85.0 714.0\n",
      "90.0 939.0\n",
      "85.0 819.0\n",
      "87.0 872.0\n",
      "88.0 814.0\n",
      "85.0 730.0\n",
      "87.0 665.0\n",
      "85.0 714.0\n",
      "90.0 939.0\n",
      "85.0 819.0\n",
      "87.0 872.0\n",
      "88.0 814.0\n",
      "85.0 730.0\n",
      "87.0 665.0\n",
      "85.0 714.0\n",
      "90.0 939.0\n",
      "85.0 819.0\n",
      "87.0 872.0\n",
      "88.0 814.0\n",
      "85.0 730.0\n",
      "87.0 665.0\n",
      "85.0 714.0\n",
      "90.0 939.0\n",
      "85.0 819.0\n",
      "87.0 872.0\n",
      "88.0 814.0\n",
      "85.0 730.0\n",
      "87.0 665.0\n",
      "85.0 714.0\n",
      "90.0 939.0\n",
      "85.0 819.0\n",
      "87.0 872.0\n",
      "88.0 814.0\n",
      "85.0 730.0\n",
      "87.0 665.0\n",
      "85.0 714.0\n",
      "90.0 939.0\n",
      "85.0 819.0\n",
      "87.0 872.0\n",
      "88.0 814.0\n",
      "85.0 730.0\n",
      "87.0 665.0\n",
      "85.0 714.0\n",
      "90.0 939.0\n",
      "85.0 819.0\n",
      "87.0 872.0\n",
      "88.0 814.0\n",
      "85.0 730.0\n",
      "87.0 665.0\n",
      "85.0 714.0\n",
      "90.0 939.0\n",
      "85.0 819.0\n",
      "87.0 872.0\n",
      "88.0 814.0\n",
      "85.0 730.0\n",
      "87.0 665.0\n",
      "85.0 714.0\n"
     ]
    }
   ],
   "source": [
    "n_days = 23\n",
    "for i, day in enumerate(obs_days[:n_days]):\n",
    "    plt.figure(figsize=(16,8))\n",
    "    gs = gridspec.GridSpec(4, 7)\n",
    "    ax0 = plt.subplot(gs[0:2, :])\n",
    "    ax1 = plt.subplot(gs[3, 0])\n",
    "    ax2 = plt.subplot(gs[3, 1])\n",
    "    ax3 = plt.subplot(gs[3, 2])\n",
    "    ax4 = plt.subplot(gs[3, 3])\n",
    "    ax5 = plt.subplot(gs[3, 4])\n",
    "    ax6 = plt.subplot(gs[3, 5])\n",
    "    ax7 = plt.subplot(gs[3, 6])\n",
    "    ax0.plot(obs_days[:i+1], m_lightcurves[sn_id, :i+1], \"-o\", lw=2, label=\"Supernova\")\n",
    "    ax0.plot(obs_days[:i+1], m_lightcurves[rr_id, :i+1], \"-x\", lw=2, label=\"RRLyra\")\n",
    "    ax0.plot(obs_days[:i+1], m_lightcurves[ceph_id, :i+1], \"-s\", lw=2, label=\"Cepheid\")\n",
    "    ax0.plot(obs_days[:i+1], m_lightcurves[eb_id, :i+1], \"-*\", lw=2, label=\"EB\")\n",
    "    ax0.plot(obs_days[:i+1], m_lightcurves[const_id, :i+1], \"-^\", lw=2, label=\"NonVariable\")\n",
    "    ax0.plot(obs_days[:i+1], m_lightcurves[ast_id, :i+1], \"-D\", lw=3, label=\"Asteroid\")\n",
    "    ax0.plot(obs_days[:n_days], limmag[:n_days], \"k-\", lw=2, label=\"limmag\")\n",
    "    ax0.set_ylim([26, 20])\n",
    "    ax0.set_xlim([np.amin(obs_days[:n_days]), np.amax(obs_days[:n_days])])\n",
    "    ax0.set_xlabel(\"obs_days\", fontsize=14)\n",
    "    ax0.set_ylabel(\"magnitude\", fontsize=14)\n",
    "    ax0.legend()\n",
    "    ax1.imshow(images[sn_id,:,:,i], vmin=80, vmax=500, cmap=\"inferno\")\n",
    "    ax1.set_title(\"Supernova\")\n",
    "    ax1.axis('off')\n",
    "    print(np.amin(images[sn_id,:,:,:]), np.amax(images[sn_id,:,:,:]))\n",
    "    ax2.imshow(images[rr_id,:,:,i], vmin=80, vmax=600,cmap=\"inferno\")\n",
    "    ax2.set_title(\"RRLyra\")\n",
    "    ax2.axis('off')\n",
    "    print(np.amin(images[rr_id,:,:,:]), np.amax(images[rr_id,:,:,:]))\n",
    "    ax3.imshow(images[ceph_id,:,:,i], vmin=80, vmax=600, cmap=\"inferno\")\n",
    "    ax3.set_title(\"Cepheid\")\n",
    "    ax3.axis('off')\n",
    "    print(np.amin(images[ceph_id,:,:,:]), np.amax(images[ceph_id,:,:,:]))\n",
    "    ax4.imshow(images[eb_id,:,:,i], vmin=80, vmax=600, cmap=\"inferno\")\n",
    "    ax4.set_title(\"EB\")\n",
    "    ax4.axis('off')\n",
    "    print(np.amin(images[eb_id,:,:,:]), np.amax(images[eb_id,:,:,:]))\n",
    "    ax5.imshow(images[const_id,:,:,i], vmin=80, vmax=600, cmap=\"inferno\")\n",
    "    ax5.set_title(\"NonVariable\")\n",
    "    ax5.axis('off')\n",
    "    print(np.amin(images[const_id,:,:,:]), np.amax(images[const_id,:,:,:]))\n",
    "    ax6.imshow(images[ast_id,:,:,i], vmin=80, vmax=500, cmap=\"inferno\")\n",
    "    ax6.set_title(\"Asteroid\")\n",
    "    ax6.axis('off')\n",
    "    print(np.amin(images[ast_id,:,:,:]), np.amax(images[ast_id,:,:,:]))\n",
    "    ax7.imshow(images[gal_id,:,:,i], vmin=80, vmax=300, cmap=\"inferno\")\n",
    "    ax7.set_title(\"Galaxy\")\n",
    "    ax7.axis('off')\n",
    "    print(np.amin(images[gal_id,:,:,:]), np.amax(images[gal_id,:,:,:]))\n",
    "    plt.savefig(\"plots/image\"+str(i).zfill(2)+\".png\")\n",
    "    plt.close(\"all\")"
   ]
  },
  {
   "cell_type": "code",
   "execution_count": null,
   "metadata": {},
   "outputs": [],
   "source": []
  }
 ],
 "metadata": {
  "kernelspec": {
   "display_name": "Python 3",
   "language": "python",
   "name": "python3"
  },
  "language_info": {
   "codemirror_mode": {
    "name": "ipython",
    "version": 3
   },
   "file_extension": ".py",
   "mimetype": "text/x-python",
   "name": "python",
   "nbconvert_exporter": "python",
   "pygments_lexer": "ipython3",
   "version": "3.6.5"
  }
 },
 "nbformat": 4,
 "nbformat_minor": 2
}
